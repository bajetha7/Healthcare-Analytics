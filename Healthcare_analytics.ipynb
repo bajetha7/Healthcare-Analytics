{
 "cells": [
  {
   "cell_type": "markdown",
   "metadata": {},
   "source": [
    "## Healthcare Analytics"
   ]
  },
  {
   "cell_type": "code",
   "execution_count": 1,
   "metadata": {
    "collapsed": true
   },
   "outputs": [],
   "source": [
    "#Importing libraries\n",
    "%matplotlib inline\n",
    "import pandas as pd\n",
    "import numpy as np\n",
    "import pylab\n",
    "import matplotlib.pyplot as plt"
   ]
  },
  {
   "cell_type": "code",
   "execution_count": 2,
   "metadata": {},
   "outputs": [
    {
     "data": {
      "text/html": [
       "<div>\n",
       "<style scoped>\n",
       "    .dataframe tbody tr th:only-of-type {\n",
       "        vertical-align: middle;\n",
       "    }\n",
       "\n",
       "    .dataframe tbody tr th {\n",
       "        vertical-align: top;\n",
       "    }\n",
       "\n",
       "    .dataframe thead th {\n",
       "        text-align: right;\n",
       "    }\n",
       "</style>\n",
       "<table border=\"1\" class=\"dataframe\">\n",
       "  <thead>\n",
       "    <tr style=\"text-align: right;\">\n",
       "      <th></th>\n",
       "      <th>Residence_type</th>\n",
       "      <th>age</th>\n",
       "      <th>avg_glucose_level</th>\n",
       "      <th>bmi</th>\n",
       "      <th>ever_married</th>\n",
       "      <th>gender</th>\n",
       "      <th>heart_disease</th>\n",
       "      <th>hypertension</th>\n",
       "      <th>id</th>\n",
       "      <th>smoking_status</th>\n",
       "      <th>stroke</th>\n",
       "      <th>work_type</th>\n",
       "    </tr>\n",
       "  </thead>\n",
       "  <tbody>\n",
       "    <tr>\n",
       "      <th>0</th>\n",
       "      <td>Rural</td>\n",
       "      <td>3.0</td>\n",
       "      <td>95.12</td>\n",
       "      <td>18.0</td>\n",
       "      <td>No</td>\n",
       "      <td>Male</td>\n",
       "      <td>0</td>\n",
       "      <td>0</td>\n",
       "      <td>30669</td>\n",
       "      <td>NaN</td>\n",
       "      <td>0.0</td>\n",
       "      <td>children</td>\n",
       "    </tr>\n",
       "    <tr>\n",
       "      <th>1</th>\n",
       "      <td>Urban</td>\n",
       "      <td>58.0</td>\n",
       "      <td>87.96</td>\n",
       "      <td>39.2</td>\n",
       "      <td>Yes</td>\n",
       "      <td>Male</td>\n",
       "      <td>0</td>\n",
       "      <td>1</td>\n",
       "      <td>30468</td>\n",
       "      <td>never smoked</td>\n",
       "      <td>0.0</td>\n",
       "      <td>Private</td>\n",
       "    </tr>\n",
       "    <tr>\n",
       "      <th>2</th>\n",
       "      <td>Urban</td>\n",
       "      <td>8.0</td>\n",
       "      <td>110.89</td>\n",
       "      <td>17.6</td>\n",
       "      <td>No</td>\n",
       "      <td>Female</td>\n",
       "      <td>0</td>\n",
       "      <td>0</td>\n",
       "      <td>16523</td>\n",
       "      <td>NaN</td>\n",
       "      <td>0.0</td>\n",
       "      <td>Private</td>\n",
       "    </tr>\n",
       "    <tr>\n",
       "      <th>3</th>\n",
       "      <td>Rural</td>\n",
       "      <td>70.0</td>\n",
       "      <td>69.04</td>\n",
       "      <td>35.9</td>\n",
       "      <td>Yes</td>\n",
       "      <td>Female</td>\n",
       "      <td>0</td>\n",
       "      <td>0</td>\n",
       "      <td>56543</td>\n",
       "      <td>formerly smoked</td>\n",
       "      <td>0.0</td>\n",
       "      <td>Private</td>\n",
       "    </tr>\n",
       "    <tr>\n",
       "      <th>4</th>\n",
       "      <td>Rural</td>\n",
       "      <td>14.0</td>\n",
       "      <td>161.28</td>\n",
       "      <td>19.1</td>\n",
       "      <td>No</td>\n",
       "      <td>Male</td>\n",
       "      <td>0</td>\n",
       "      <td>0</td>\n",
       "      <td>46136</td>\n",
       "      <td>NaN</td>\n",
       "      <td>0.0</td>\n",
       "      <td>Never_worked</td>\n",
       "    </tr>\n",
       "  </tbody>\n",
       "</table>\n",
       "</div>"
      ],
      "text/plain": [
       "  Residence_type   age  avg_glucose_level   bmi ever_married  gender  \\\n",
       "0          Rural   3.0              95.12  18.0           No    Male   \n",
       "1          Urban  58.0              87.96  39.2          Yes    Male   \n",
       "2          Urban   8.0             110.89  17.6           No  Female   \n",
       "3          Rural  70.0              69.04  35.9          Yes  Female   \n",
       "4          Rural  14.0             161.28  19.1           No    Male   \n",
       "\n",
       "   heart_disease  hypertension     id   smoking_status  stroke     work_type  \n",
       "0              0             0  30669              NaN     0.0      children  \n",
       "1              0             1  30468     never smoked     0.0       Private  \n",
       "2              0             0  16523              NaN     0.0       Private  \n",
       "3              0             0  56543  formerly smoked     0.0       Private  \n",
       "4              0             0  46136              NaN     0.0  Never_worked  "
      ]
     },
     "execution_count": 2,
     "metadata": {},
     "output_type": "execute_result"
    }
   ],
   "source": [
    "#reading train and test data\n",
    "train_data = pd.read_csv('G:/analytics vidhya/heathcare analytics/train_ajEneEa.csv')\n",
    "test_data = pd.read_csv('G:/analytics vidhya/heathcare analytics/test_v2akXPA.csv')\n",
    "\n",
    "#merging data\n",
    "dataset = pd.concat([train_data,test_data],ignore_index = True, sort = True)\n",
    "dataset.head()"
   ]
  },
  {
   "cell_type": "markdown",
   "metadata": {},
   "source": [
    "### Data Exploration"
   ]
  },
  {
   "cell_type": "code",
   "execution_count": 3,
   "metadata": {},
   "outputs": [
    {
     "data": {
      "text/plain": [
       "0    42617\n",
       "1      783\n",
       "Name: stroke, dtype: int64"
      ]
     },
     "execution_count": 3,
     "metadata": {},
     "output_type": "execute_result"
    }
   ],
   "source": [
    "#checking for class imbalanced\n",
    "train_data['stroke'].value_counts()"
   ]
  },
  {
   "cell_type": "markdown",
   "metadata": {},
   "source": [
    "Only around 1.8% of the total training data belongs to label 1.\n",
    "This is class imbalanced data and we can use different techniques to deal with this."
   ]
  },
  {
   "cell_type": "code",
   "execution_count": 4,
   "metadata": {},
   "outputs": [
    {
     "data": {
      "text/plain": [
       "Index(['Residence_type', 'ever_married', 'gender', 'smoking_status',\n",
       "       'work_type'],\n",
       "      dtype='object')"
      ]
     },
     "execution_count": 4,
     "metadata": {},
     "output_type": "execute_result"
    }
   ],
   "source": [
    "#categorical variables\n",
    "categorical_variables = dataset.dtypes.loc[dataset.dtypes== 'object'].index\n",
    "categorical_variables"
   ]
  },
  {
   "cell_type": "code",
   "execution_count": 5,
   "metadata": {},
   "outputs": [
    {
     "data": {
      "text/plain": [
       "<matplotlib.axes._subplots.AxesSubplot at 0x26990fe1c50>"
      ]
     },
     "execution_count": 5,
     "metadata": {},
     "output_type": "execute_result"
    },
    {
     "data": {
      "image/png": "[encoded data removed]",
      "text/plain": [
       "<Figure size 1440x720 with 5 Axes>"
      ]
     },
     "metadata": {},
     "output_type": "display_data"
    }
   ],
   "source": [
    "#Univariate analysis\n",
    "plt.figure(figsize = (20,10))\n",
    "#plt.subplots_adjusts(hspace = 0,vspace = 0)\n",
    "plt.subplot(2,3,1)\n",
    "plt.title('Gender')\n",
    "dataset['gender'].value_counts().plot.bar()\n",
    "\n",
    "plt.subplot(2,3,2)\n",
    "plt.title('Residence Type')\n",
    "dataset['Residence_type'].value_counts().plot.bar()\n",
    "\n",
    "plt.subplot(2,3,3)\n",
    "plt.title('Married')\n",
    "dataset['ever_married'].value_counts().plot.bar()\n",
    "\n",
    "plt.subplot(2,3,4)\n",
    "plt.title('Smoking Status')\n",
    "dataset['smoking_status'].value_counts().plot.bar()\n",
    "\n",
    "plt.subplot(2,3,5)\n",
    "plt.title('Occupation')\n",
    "dataset['work_type'].value_counts().plot.bar()"
   ]
  },
  {
   "cell_type": "code",
   "execution_count": 7,
   "metadata": {},
   "outputs": [
    {
     "data": {
      "text/html": [
       "<div>\n",
       "<style scoped>\n",
       "    .dataframe tbody tr th:only-of-type {\n",
       "        vertical-align: middle;\n",
       "    }\n",
       "\n",
       "    .dataframe tbody tr th {\n",
       "        vertical-align: top;\n",
       "    }\n",
       "\n",
       "    .dataframe thead th {\n",
       "        text-align: right;\n",
       "    }\n",
       "</style>\n",
       "<table border=\"1\" class=\"dataframe\">\n",
       "  <thead>\n",
       "    <tr style=\"text-align: right;\">\n",
       "      <th></th>\n",
       "      <th>age</th>\n",
       "      <th>avg_glucose_level</th>\n",
       "      <th>bmi</th>\n",
       "      <th>heart_disease</th>\n",
       "      <th>hypertension</th>\n",
       "      <th>id</th>\n",
       "      <th>stroke</th>\n",
       "    </tr>\n",
       "  </thead>\n",
       "  <tbody>\n",
       "    <tr>\n",
       "      <th>count</th>\n",
       "      <td>62001.000000</td>\n",
       "      <td>62001.000000</td>\n",
       "      <td>59948.000000</td>\n",
       "      <td>62001.000000</td>\n",
       "      <td>62001.000000</td>\n",
       "      <td>62001.000000</td>\n",
       "      <td>43400.000000</td>\n",
       "    </tr>\n",
       "    <tr>\n",
       "      <th>mean</th>\n",
       "      <td>42.169475</td>\n",
       "      <td>104.453832</td>\n",
       "      <td>28.587099</td>\n",
       "      <td>0.047677</td>\n",
       "      <td>0.093450</td>\n",
       "      <td>36452.514814</td>\n",
       "      <td>0.018041</td>\n",
       "    </tr>\n",
       "    <tr>\n",
       "      <th>std</th>\n",
       "      <td>22.522100</td>\n",
       "      <td>42.960537</td>\n",
       "      <td>7.766122</td>\n",
       "      <td>0.213083</td>\n",
       "      <td>0.291065</td>\n",
       "      <td>21067.155945</td>\n",
       "      <td>0.133103</td>\n",
       "    </tr>\n",
       "    <tr>\n",
       "      <th>min</th>\n",
       "      <td>0.080000</td>\n",
       "      <td>55.000000</td>\n",
       "      <td>10.100000</td>\n",
       "      <td>0.000000</td>\n",
       "      <td>0.000000</td>\n",
       "      <td>1.000000</td>\n",
       "      <td>0.000000</td>\n",
       "    </tr>\n",
       "    <tr>\n",
       "      <th>25%</th>\n",
       "      <td>24.000000</td>\n",
       "      <td>77.540000</td>\n",
       "      <td>23.200000</td>\n",
       "      <td>0.000000</td>\n",
       "      <td>0.000000</td>\n",
       "      <td>18187.000000</td>\n",
       "      <td>0.000000</td>\n",
       "    </tr>\n",
       "    <tr>\n",
       "      <th>50%</th>\n",
       "      <td>44.000000</td>\n",
       "      <td>91.660000</td>\n",
       "      <td>27.700000</td>\n",
       "      <td>0.000000</td>\n",
       "      <td>0.000000</td>\n",
       "      <td>36463.000000</td>\n",
       "      <td>0.000000</td>\n",
       "    </tr>\n",
       "    <tr>\n",
       "      <th>75%</th>\n",
       "      <td>60.000000</td>\n",
       "      <td>112.120000</td>\n",
       "      <td>32.800000</td>\n",
       "      <td>0.000000</td>\n",
       "      <td>0.000000</td>\n",
       "      <td>54693.000000</td>\n",
       "      <td>0.000000</td>\n",
       "    </tr>\n",
       "    <tr>\n",
       "      <th>max</th>\n",
       "      <td>82.000000</td>\n",
       "      <td>291.050000</td>\n",
       "      <td>97.600000</td>\n",
       "      <td>1.000000</td>\n",
       "      <td>1.000000</td>\n",
       "      <td>72943.000000</td>\n",
       "      <td>1.000000</td>\n",
       "    </tr>\n",
       "  </tbody>\n",
       "</table>\n",
       "</div>"
      ],
      "text/plain": [
       "                age  avg_glucose_level           bmi  heart_disease  \\\n",
       "count  62001.000000       62001.000000  59948.000000   62001.000000   \n",
       "mean      42.169475         104.453832     28.587099       0.047677   \n",
       "std       22.522100          42.960537      7.766122       0.213083   \n",
       "min        0.080000          55.000000     10.100000       0.000000   \n",
       "25%       24.000000          77.540000     23.200000       0.000000   \n",
       "50%       44.000000          91.660000     27.700000       0.000000   \n",
       "75%       60.000000         112.120000     32.800000       0.000000   \n",
       "max       82.000000         291.050000     97.600000       1.000000   \n",
       "\n",
       "       hypertension            id        stroke  \n",
       "count  62001.000000  62001.000000  43400.000000  \n",
       "mean       0.093450  36452.514814      0.018041  \n",
       "std        0.291065  21067.155945      0.133103  \n",
       "min        0.000000      1.000000      0.000000  \n",
       "25%        0.000000  18187.000000      0.000000  \n",
       "50%        0.000000  36463.000000      0.000000  \n",
       "75%        0.000000  54693.000000      0.000000  \n",
       "max        1.000000  72943.000000      1.000000  "
      ]
     },
     "execution_count": 7,
     "metadata": {},
     "output_type": "execute_result"
    }
   ],
   "source": [
    "#continuous variable\n",
    "summary = dataset.describe()\n",
    "summary"
   ]
  },
  {
   "cell_type": "code",
   "execution_count": 8,
   "metadata": {},
   "outputs": [
    {
     "data": {
      "text/plain": [
       "Residence_type           0\n",
       "age                      0\n",
       "avg_glucose_level        0\n",
       "bmi                   2053\n",
       "ever_married             0\n",
       "gender                   0\n",
       "heart_disease            0\n",
       "hypertension             0\n",
       "id                       0\n",
       "smoking_status       19043\n",
       "stroke               18601\n",
       "work_type                0\n",
       "dtype: int64"
      ]
     },
     "execution_count": 8,
     "metadata": {},
     "output_type": "execute_result"
    }
   ],
   "source": [
    "# checking null values \n",
    "dataset.apply(lambda x: sum(x.isnull()))"
   ]
  },
  {
   "cell_type": "code",
   "execution_count": 9,
   "metadata": {},
   "outputs": [
    {
     "data": {
      "text/html": [
       "<div>\n",
       "<style scoped>\n",
       "    .dataframe tbody tr th:only-of-type {\n",
       "        vertical-align: middle;\n",
       "    }\n",
       "\n",
       "    .dataframe tbody tr th {\n",
       "        vertical-align: top;\n",
       "    }\n",
       "\n",
       "    .dataframe thead th {\n",
       "        text-align: right;\n",
       "    }\n",
       "</style>\n",
       "<table border=\"1\" class=\"dataframe\">\n",
       "  <thead>\n",
       "    <tr style=\"text-align: right;\">\n",
       "      <th>smoking_status</th>\n",
       "      <th>formerly smoked</th>\n",
       "      <th>never smoked</th>\n",
       "      <th>smokes</th>\n",
       "      <th>All</th>\n",
       "    </tr>\n",
       "    <tr>\n",
       "      <th>work_type</th>\n",
       "      <th></th>\n",
       "      <th></th>\n",
       "      <th></th>\n",
       "      <th></th>\n",
       "    </tr>\n",
       "  </thead>\n",
       "  <tbody>\n",
       "    <tr>\n",
       "      <th>Govt_job</th>\n",
       "      <td>1546</td>\n",
       "      <td>3238</td>\n",
       "      <td>1397</td>\n",
       "      <td>6181</td>\n",
       "    </tr>\n",
       "    <tr>\n",
       "      <th>Never_worked</th>\n",
       "      <td>15</td>\n",
       "      <td>117</td>\n",
       "      <td>10</td>\n",
       "      <td>142</td>\n",
       "    </tr>\n",
       "    <tr>\n",
       "      <th>Private</th>\n",
       "      <td>6697</td>\n",
       "      <td>14983</td>\n",
       "      <td>6386</td>\n",
       "      <td>28066</td>\n",
       "    </tr>\n",
       "    <tr>\n",
       "      <th>Self-employed</th>\n",
       "      <td>2358</td>\n",
       "      <td>3846</td>\n",
       "      <td>1508</td>\n",
       "      <td>7712</td>\n",
       "    </tr>\n",
       "    <tr>\n",
       "      <th>children</th>\n",
       "      <td>137</td>\n",
       "      <td>702</td>\n",
       "      <td>18</td>\n",
       "      <td>857</td>\n",
       "    </tr>\n",
       "    <tr>\n",
       "      <th>All</th>\n",
       "      <td>10753</td>\n",
       "      <td>22886</td>\n",
       "      <td>9319</td>\n",
       "      <td>42958</td>\n",
       "    </tr>\n",
       "  </tbody>\n",
       "</table>\n",
       "</div>"
      ],
      "text/plain": [
       "smoking_status  formerly smoked  never smoked  smokes    All\n",
       "work_type                                                   \n",
       "Govt_job                   1546          3238    1397   6181\n",
       "Never_worked                 15           117      10    142\n",
       "Private                    6697         14983    6386  28066\n",
       "Self-employed              2358          3846    1508   7712\n",
       "children                    137           702      18    857\n",
       "All                       10753         22886    9319  42958"
      ]
     },
     "execution_count": 9,
     "metadata": {},
     "output_type": "execute_result"
    }
   ],
   "source": [
    "# bivariate analysis\n",
    "cross_tab1 = pd.crosstab(dataset['work_type'],dataset['smoking_status'],margins = True)\n",
    "cross_tab1"
   ]
  },
  {
   "cell_type": "code",
   "execution_count": 10,
   "metadata": {},
   "outputs": [
    {
     "data": {
      "text/plain": [
       "<matplotlib.axes._subplots.AxesSubplot at 0x2699a701550>"
      ]
     },
     "execution_count": 10,
     "metadata": {},
     "output_type": "execute_result"
    },
    {
     "data": {
      "image/png": "[encoded data removed]",
      "text/plain": [
       "<Figure size 432x288 with 1 Axes>"
      ]
     },
     "metadata": {},
     "output_type": "display_data"
    }
   ],
   "source": [
    "dataset.boxplot(column = 'age',by = 'smoking_status')"
   ]
  },
  {
   "cell_type": "markdown",
   "metadata": {},
   "source": [
    "Age does not give clear indication about the smoking status of patient. But in case of formerly smoked status we can have small interpretation that mean age of patients who 'formerly smoked'  is around 55."
   ]
  },
  {
   "cell_type": "markdown",
   "metadata": {},
   "source": [
    "### Null value imputation"
   ]
  },
  {
   "cell_type": "markdown",
   "metadata": {},
   "source": [
    "Null value in smoking status are imputed as below.\n",
    "Patient having age greater than or equal to 55, is assigned 'formerly smoked'.\n",
    "Patient having age below 30 and work type as children are more likely to have never smoked.\n",
    "Remaining null values are also assigned with 'never smoked' as majority of patient belong to this category."
   ]
  },
  {
   "cell_type": "code",
   "execution_count": 11,
   "metadata": {
    "collapsed": true
   },
   "outputs": [],
   "source": [
    "Rows_NanWeight = dataset[dataset['smoking_status'].isnull()]\n",
    "\n",
    "dataset.loc[(dataset['smoking_status'].isnull()) & (dataset.work_type == 'children'), 'smoking_status']='never smoked'\n",
    "dataset.loc[(dataset['smoking_status'].isnull()) & (dataset.age<=30), 'smoking_status']='never smoked'\n",
    "dataset.loc[(dataset['smoking_status'].isnull()) & (dataset.age >= 55), 'smoking_status']='formerly smoked'\n",
    "\n",
    "dataset.loc[dataset['smoking_status'].isnull(),'smoking_status'] = 'never smoked'"
   ]
  },
  {
   "cell_type": "markdown",
   "metadata": {},
   "source": [
    "BMI values can somehow be related with age.\n",
    "Scatter plot shows some approximate trend line can be fitted to this. So, the age values are binned in age groups of 10 and then the mean bmi value for that age group is used to replace NaN values in that particular age group."
   ]
  },
  {
   "cell_type": "code",
   "execution_count": 12,
   "metadata": {},
   "outputs": [
    {
     "data": {
      "text/plain": [
       "<matplotlib.axes._subplots.AxesSubplot at 0x2699a4d0898>"
      ]
     },
     "execution_count": 12,
     "metadata": {},
     "output_type": "execute_result"
    },
    {
     "data": {
      "image/png": "[encoded data removed]",
      "text/plain": [
       "<Figure size 432x288 with 1 Axes>"
      ]
     },
     "metadata": {},
     "output_type": "display_data"
    }
   ],
   "source": [
    "dataset.plot('age','bmi',kind = 'scatter')"
   ]
  },
  {
   "cell_type": "code",
   "execution_count": 14,
   "metadata": {},
   "outputs": [
    {
     "name": "stdout",
     "output_type": "stream",
     "text": [
      "age\n",
      "(0.0, 10.0]     18.853496\n",
      "(10.0, 20.0]    25.013064\n",
      "(20.0, 30.0]    28.700140\n",
      "(30.0, 40.0]    30.732165\n",
      "(40.0, 50.0]    31.146429\n",
      "(50.0, 60.0]    31.404439\n",
      "(60.0, 70.0]    31.162145\n",
      "(70.0, 80.0]    29.096731\n",
      "(80.0, 90.0]    27.672250\n",
      "Name: bmi, dtype: float64\n"
     ]
    }
   ],
   "source": [
    "NoNan_bmi = dataset[dataset['bmi'].notnull()]\n",
    "\n",
    "Mean_bmi = pd.DataFrame()\n",
    "Mean_bmi = NoNan_bmi[['age','bmi']]\n",
    "\n",
    "#biining age intpo 10 age group with mean of bmi \n",
    "bins = np.linspace(0, 90, 10)\n",
    "groups = Mean_bmi.groupby(pd.cut(Mean_bmi.age, bins))\n",
    "print(groups.mean().bmi)\n",
    "\n",
    "dataset.loc[(dataset['bmi'].isnull()) & (dataset.age <= 10), 'bmi']= 18.853\n",
    "dataset.loc[(dataset['bmi'].isnull()) & ((dataset.age >= 10) & (dataset.age <20)), 'bmi']= 25.006\n",
    "dataset.loc[(dataset['bmi'].isnull()) & ((dataset.age >=20 ) & (dataset.age <30)), 'bmi']= 28.700\n",
    "dataset.loc[(dataset['bmi'].isnull()) & ((dataset.age >= 30) & (dataset.age <70)), 'bmi']= 31.250\n",
    "dataset.loc[(dataset['bmi'].isnull()) & ((dataset.age >= 70) & (dataset.age <=90)), 'bmi']= 29.096"
   ]
  },
  {
   "cell_type": "code",
   "execution_count": 15,
   "metadata": {},
   "outputs": [
    {
     "data": {
      "text/plain": [
       "Residence_type           0\n",
       "age                      0\n",
       "avg_glucose_level        0\n",
       "bmi                      0\n",
       "ever_married             0\n",
       "gender                   0\n",
       "heart_disease            0\n",
       "hypertension             0\n",
       "id                       0\n",
       "smoking_status           0\n",
       "stroke               18601\n",
       "work_type                0\n",
       "dtype: int64"
      ]
     },
     "execution_count": 15,
     "metadata": {},
     "output_type": "execute_result"
    }
   ],
   "source": [
    "#again checking for null values\n",
    "dataset.apply(lambda x: sum(x.isnull()))"
   ]
  },
  {
   "cell_type": "markdown",
   "metadata": {},
   "source": [
    "### Feature Engineering"
   ]
  },
  {
   "cell_type": "markdown",
   "metadata": {},
   "source": [
    "In feature engineering, the features are transformed such that transformed feature values explaines the output more clearly."
   ]
  },
  {
   "cell_type": "code",
   "execution_count": 16,
   "metadata": {},
   "outputs": [
    {
     "data": {
      "text/html": [
       "<div>\n",
       "<style scoped>\n",
       "    .dataframe tbody tr th:only-of-type {\n",
       "        vertical-align: middle;\n",
       "    }\n",
       "\n",
       "    .dataframe tbody tr th {\n",
       "        vertical-align: top;\n",
       "    }\n",
       "\n",
       "    .dataframe thead th {\n",
       "        text-align: right;\n",
       "    }\n",
       "</style>\n",
       "<table border=\"1\" class=\"dataframe\">\n",
       "  <thead>\n",
       "    <tr style=\"text-align: right;\">\n",
       "      <th></th>\n",
       "      <th>age_group</th>\n",
       "      <th>age</th>\n",
       "    </tr>\n",
       "  </thead>\n",
       "  <tbody>\n",
       "    <tr>\n",
       "      <th>0</th>\n",
       "      <td>0</td>\n",
       "      <td>3.0</td>\n",
       "    </tr>\n",
       "    <tr>\n",
       "      <th>1</th>\n",
       "      <td>2</td>\n",
       "      <td>58.0</td>\n",
       "    </tr>\n",
       "    <tr>\n",
       "      <th>2</th>\n",
       "      <td>0</td>\n",
       "      <td>8.0</td>\n",
       "    </tr>\n",
       "    <tr>\n",
       "      <th>3</th>\n",
       "      <td>3</td>\n",
       "      <td>70.0</td>\n",
       "    </tr>\n",
       "    <tr>\n",
       "      <th>4</th>\n",
       "      <td>0</td>\n",
       "      <td>14.0</td>\n",
       "    </tr>\n",
       "  </tbody>\n",
       "</table>\n",
       "</div>"
      ],
      "text/plain": [
       "   age_group   age\n",
       "0          0   3.0\n",
       "1          2  58.0\n",
       "2          0   8.0\n",
       "3          3  70.0\n",
       "4          0  14.0"
      ]
     },
     "execution_count": 16,
     "metadata": {},
     "output_type": "execute_result"
    }
   ],
   "source": [
    "#specific age doesnt impact the likelihood of stroke but binning them can do it.\n",
    "#labels = ['0-18','18-40','40-65','above 65']\n",
    "dataset['age_group'] = pd.cut(dataset['age'], [0, 18, 40,65,85],labels = ['0-18','19-40','41-65','66-85'])\n",
    "#encoding them as integer values\n",
    "dataset['age_group']  = dataset['age_group'].map({'0-18': 0, '19-40': 1,'41-65':2,'66-85':3})\n",
    "dataset[['age_group','age']].head()"
   ]
  },
  {
   "cell_type": "markdown",
   "metadata": {},
   "source": [
    "BMI values are grouped and transformed into categories as \n",
    "0-19 'UnderWeight',\n",
    "19-25 'HealthyWeight',\n",
    "25-30  'OverWeight',\n",
    "above 30 'Obese'."
   ]
  },
  {
   "cell_type": "code",
   "execution_count": 17,
   "metadata": {
    "collapsed": true
   },
   "outputs": [],
   "source": [
    "#bmi values\n",
    "dataset['bmi'] = pd.cut(dataset['bmi'],[0,19,25,30,100],right = False,labels =[ 'UnderWeight','HealthyWeight',\n",
    "                                                                                'OverWeight','Obese'])\n",
    "dataset['bmi']  = dataset['bmi'].map({'Obese':3,'OverWeight': 2, 'HealthyWeight': 1,'UnderWeight':0})"
   ]
  },
  {
   "cell_type": "code",
   "execution_count": 18,
   "metadata": {},
   "outputs": [
    {
     "data": {
      "text/plain": [
       "0    0\n",
       "1    0\n",
       "2    0\n",
       "3    0\n",
       "4    1\n",
       "Name: avg_glucose_level, dtype: int64"
      ]
     },
     "execution_count": 18,
     "metadata": {},
     "output_type": "execute_result"
    }
   ],
   "source": [
    "# Avg_glucose level\n",
    "dataset['avg_glucose_level'] = pd.cut(dataset['avg_glucose_level'],[0,140,200,300],labels =[ 'Normal','PreDiabetic',\n",
    "                                                                                'Diabetic'])\n",
    "dataset['avg_glucose_level'] = dataset['avg_glucose_level'].map({'Normal':0,'PreDiabetic':1,'Diabetic':2})\n",
    "dataset['avg_glucose_level'].head()"
   ]
  },
  {
   "cell_type": "code",
   "execution_count": 19,
   "metadata": {
    "collapsed": true
   },
   "outputs": [],
   "source": [
    "#gender\n",
    "dataset.loc[dataset['gender']== 'Other','gender'] = 'Female'\n",
    "dataset['gender'] = dataset['gender'].map({'Female':0,'Male':1})"
   ]
  },
  {
   "cell_type": "code",
   "execution_count": 20,
   "metadata": {
    "collapsed": true
   },
   "outputs": [],
   "source": [
    "#dropping unnecessary columns\n",
    "dataset.drop(['age','id','stroke'],inplace = True,axis =1)"
   ]
  },
  {
   "cell_type": "code",
   "execution_count": 21,
   "metadata": {
    "collapsed": true
   },
   "outputs": [],
   "source": [
    "#encoding remaining categorical variables\n",
    "dataset = pd.get_dummies(dataset)\n",
    "\n",
    "#separating training and test set\n",
    "X = dataset.iloc[:43400,:].values\n",
    "test_data = dataset.iloc[43400:,:].values\n",
    "y = train_data.iloc[:43400,11].values"
   ]
  },
  {
   "cell_type": "markdown",
   "metadata": {},
   "source": [
    "### Model Building"
   ]
  },
  {
   "cell_type": "code",
   "execution_count": 22,
   "metadata": {},
   "outputs": [
    {
     "name": "stderr",
     "output_type": "stream",
     "text": [
      "C:\\Users\\prashant bajetha\\Anaconda3\\lib\\site-packages\\sklearn\\linear_model\\logistic.py:433: FutureWarning: Default solver will be changed to 'lbfgs' in 0.22. Specify a solver to silence this warning.\n",
      "  FutureWarning)\n"
     ]
    },
    {
     "data": {
      "text/plain": [
       "({'C': 1}, 0.8416538651785583)"
      ]
     },
     "execution_count": 22,
     "metadata": {},
     "output_type": "execute_result"
    }
   ],
   "source": [
    "# fitting LogisticRegression and checking for optimal parameters using GridSearch CV\n",
    "# this was a class imbalanced data, so here while using Logistic Regression model we are using 'class_weight' parameter\n",
    "#and assigning to 'balanced' that will take care of class imbalance.\n",
    "\n",
    "from sklearn.linear_model import LogisticRegression\n",
    "from sklearn.model_selection import GridSearchCV\n",
    "param_test1 = {\n",
    " 'C':[0.01,0.05,0.25,0.5,1]\n",
    "}\n",
    "gsearch1 = GridSearchCV(estimator = LogisticRegression(class_weight = 'balanced'),param_grid = param_test1,scoring = 'roc_auc',\n",
    "                        n_jobs=-1,iid=False, cv=5)\n",
    "gsearch1.fit(X,y)\n",
    "gsearch1.best_params_, gsearch1.best_score_"
   ]
  },
  {
   "cell_type": "code",
   "execution_count": 23,
   "metadata": {},
   "outputs": [
    {
     "name": "stderr",
     "output_type": "stream",
     "text": [
      "C:\\Users\\prashant bajetha\\Anaconda3\\lib\\site-packages\\sklearn\\linear_model\\logistic.py:433: FutureWarning: Default solver will be changed to 'lbfgs' in 0.22. Specify a solver to silence this warning.\n",
      "  FutureWarning)\n"
     ]
    },
    {
     "data": {
      "text/plain": [
       "LogisticRegression(C=1, class_weight='balanced', dual=False,\n",
       "          fit_intercept=True, intercept_scaling=1, max_iter=100,\n",
       "          multi_class='warn', n_jobs=None, penalty='l2', random_state=None,\n",
       "          solver='warn', tol=0.0001, verbose=0, warm_start=False)"
      ]
     },
     "execution_count": 23,
     "metadata": {},
     "output_type": "execute_result"
    }
   ],
   "source": [
    "#fitting model with optimal hyperparameters\n",
    "opt_logreg = LogisticRegression(C=1,class_weight = 'balanced')\n",
    "opt_logreg.fit(X,y)"
   ]
  },
  {
   "cell_type": "code",
   "execution_count": 27,
   "metadata": {},
   "outputs": [
    {
     "data": {
      "text/plain": [
       "array([1, 1, 0, ..., 1, 0, 0], dtype=int64)"
      ]
     },
     "execution_count": 27,
     "metadata": {},
     "output_type": "execute_result"
    }
   ],
   "source": [
    "y_pred = opt_logreg.predict(test_data)\n",
    "y_pred"
   ]
  },
  {
   "cell_type": "markdown",
   "metadata": {},
   "source": [
    "Here,the Logistic Regression model gives cross validation score of 0.84 and final test score of 0.77.\n",
    "I have earlier tried with same model but due to lack of feature engineering, the test score i could get was around 0.55 and with different models i was able to improve my test score only to 0.68."
   ]
  },
  {
   "cell_type": "markdown",
   "metadata": {},
   "source": [
    "The roc auc score for this was 0.77"
   ]
  }
 ],
 "metadata": {
  "kernelspec": {
   "display_name": "Python 3",
   "language": "python",
   "name": "python3"
  },
  "language_info": {
   "codemirror_mode": {
    "name": "ipython",
    "version": 3
   },
   "file_extension": ".py",
   "mimetype": "text/x-python",
   "name": "python",
   "nbconvert_exporter": "python",
   "pygments_lexer": "ipython3",
   "version": "3.6.6"
  }
 },
 "nbformat": 4,
 "nbformat_minor": 2
}
